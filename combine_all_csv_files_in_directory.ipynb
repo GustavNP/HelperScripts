{
 "cells": [
  {
   "cell_type": "code",
   "execution_count": 10,
   "metadata": {},
   "outputs": [],
   "source": [
    "\n",
    "\n",
    "import pandas as pd\n",
    "import os\n",
    "\n"
   ]
  },
  {
   "cell_type": "code",
   "execution_count": 11,
   "metadata": {},
   "outputs": [],
   "source": [
    "\n",
    "def combine_csv_files(input_files, output_file):\n",
    "    # Read and concatenate all CSV files into one DataFrame\n",
    "    combined_df = pd.concat([pd.read_csv(file) for file in input_files], ignore_index=True)\n",
    "    \n",
    "    # Write the combined DataFrame to a new CSV file\n",
    "    combined_df.to_csv(output_file, index=False)\n"
   ]
  },
  {
   "cell_type": "code",
   "execution_count": 12,
   "metadata": {},
   "outputs": [
    {
     "name": "stdout",
     "output_type": "stream",
     "text": [
      "Combined file saved as .\\combined_output_test.csv\n"
     ]
    }
   ],
   "source": [
    "files_directory = \"C:\\\\Users\\\\admin\\\\source\\\\repos\\\\OFIQ-Project-FGFP\\\\install_x86_64\\\\Release\\\\bin\\\\score_files\"\n",
    "\n",
    "input_files = []\n",
    "for root, dirs, files in os.walk(files_directory):\n",
    "    for file in files:\n",
    "        if file.endswith(\".csv\"):\n",
    "            file_path = os.path.join(root, file)\n",
    "            input_files.append(file_path)\n",
    "\n",
    "output_file = \".\\\\combined_output_test.csv\"\n",
    "\n",
    "combine_csv_files(input_files, output_file)\n",
    "\n",
    "print(f\"Combined file saved as {output_file}\")"
   ]
  }
 ],
 "metadata": {
  "kernelspec": {
   "display_name": "Python 3",
   "language": "python",
   "name": "python3"
  },
  "language_info": {
   "codemirror_mode": {
    "name": "ipython",
    "version": 3
   },
   "file_extension": ".py",
   "mimetype": "text/x-python",
   "name": "python",
   "nbconvert_exporter": "python",
   "pygments_lexer": "ipython3",
   "version": "3.13.0"
  }
 },
 "nbformat": 4,
 "nbformat_minor": 2
}
