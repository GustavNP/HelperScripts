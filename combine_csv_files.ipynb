{
 "cells": [
  {
   "cell_type": "code",
   "execution_count": null,
   "metadata": {},
   "outputs": [],
   "source": [
    "\n",
    "\n",
    "import pandas as pd\n",
    "import os\n",
    "\n",
    "def combine_csv_files(input_files, output_file):\n",
    "    combined_df = pd.concat([pd.read_csv(file) for file in input_files], ignore_index=True)\n",
    "    \n",
    "    combined_df.to_csv(output_file, index=False)\n",
    "\n",
    "if __name__ == \"__main__\":\n",
    "    input_files = [\"file1.csv\", \"file2.csv\", \"file3.csv\"]  # Add your file paths here\n",
    "\n",
    "    output_file = \"combined_output.csv\"\n",
    "\n",
    "    combine_csv_files(input_files, output_file)\n",
    "\n",
    "    print(f\"Combined CSV file saved as {output_file}\")\n"
   ]
  }
 ],
 "metadata": {
  "kernelspec": {
   "display_name": "Python 3",
   "language": "python",
   "name": "python3"
  },
  "language_info": {
   "name": "python",
   "version": "3.13.0"
  }
 },
 "nbformat": 4,
 "nbformat_minor": 2
}
