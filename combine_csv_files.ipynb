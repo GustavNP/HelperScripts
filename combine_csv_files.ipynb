{
 "cells": [
  {
   "cell_type": "code",
   "execution_count": 1,
   "metadata": {},
   "outputs": [
    {
     "name": "stdout",
     "output_type": "stream",
     "text": [
      "Combined CSV file saved as C:\\Users\\admin\\source\\repos\\FaceSimilarity\\larger_embedding_files\\embeddings_Facenet512_yunet_VGGFace-200k-rs-36-test-set.csv\n"
     ]
    }
   ],
   "source": [
    "\n",
    "\n",
    "import pandas as pd\n",
    "import os\n",
    "\n",
    "def combine_csv_files(input_files, output_file):\n",
    "    combined_df = pd.concat([pd.read_csv(file, sep=';', header=None) for file in input_files], ignore_index=True)\n",
    "    # combined_df = pd.concat([pd.read_csv(file, sep=';') for file in input_files], ignore_index=True)\n",
    "    \n",
    "    combined_df.to_csv(output_file, sep=';', index=False, header=False)\n",
    "    # combined_df.to_csv(output_file, sep=';', index=False)\n",
    "\n",
    "if __name__ == \"__main__\":\n",
    "    # input_files = [\"output_files\\\\VGGFace200k-50-images-new-regions-blackout-only-filenames.csv\", \"output_files\\\\VGGFace200k-50-images-existing-regions-blackout-only-filenames.csv\"]  # Add your file paths here\n",
    "    # input_files = [\"output_files\\\\region_pixel_count_vggface-New-sub-regions.csv\", \"output_files\\\\region_pixel_count-vggface-Existing-regions.csv\"]  # Add your file paths here\n",
    "    input_files = [\n",
    "        \"C:\\\\Users\\\\admin\\\\source\\\\repos\\\\FaceSimilarity\\\\embeddings_Facenet512_yunet_VGGFace-200k-rs-36-test-split1.csv\",\n",
    "        \"C:\\\\Users\\\\admin\\\\source\\\\repos\\\\FaceSimilarity\\\\embeddings_Facenet512_yunet_VGGFace-200k-rs-36-test-split2.csv\",\n",
    "        \"C:\\\\Users\\\\admin\\\\source\\\\repos\\\\FaceSimilarity\\\\embeddings_Facenet512_yunet_VGGFace-200k-rs-36-test-split3.csv\",\n",
    "        \"C:\\\\Users\\\\admin\\\\source\\\\repos\\\\FaceSimilarity\\\\embeddings_Facenet512_yunet_VGGFace-200k-rs-36-test-split4.csv\"\n",
    "    ] \n",
    "\n",
    "    # output_file = \"output_files\\\\VGGFace200k-50-image-blackout-regions-UQS-ALL.csv\"\n",
    "    output_file = \"C:\\\\Users\\\\admin\\\\source\\\\repos\\\\FaceSimilarity\\\\larger_embedding_files\\\\embeddings_Facenet512_yunet_VGGFace-200k-rs-36-test-set.csv\"\n",
    "\n",
    "    combine_csv_files(input_files, output_file)\n",
    "\n",
    "    print(f\"Combined CSV file saved as {output_file}\")\n"
   ]
  }
 ],
 "metadata": {
  "kernelspec": {
   "display_name": "Python 3",
   "language": "python",
   "name": "python3"
  },
  "language_info": {
   "codemirror_mode": {
    "name": "ipython",
    "version": 3
   },
   "file_extension": ".py",
   "mimetype": "text/x-python",
   "name": "python",
   "nbconvert_exporter": "python",
   "pygments_lexer": "ipython3",
   "version": "3.13.0"
  }
 },
 "nbformat": 4,
 "nbformat_minor": 2
}
