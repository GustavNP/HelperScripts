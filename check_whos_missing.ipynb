{
 "cells": [
  {
   "cell_type": "code",
   "execution_count": 4,
   "metadata": {},
   "outputs": [
    {
     "name": "stdout",
     "output_type": "stream",
     "text": [
      "n000175\n"
     ]
    }
   ],
   "source": [
    "\n",
    "\n",
    "import pandas as pd\n",
    "import os\n",
    "\n",
    "\n",
    "input_files = [\"output_files\\\\VGGFace200k-50-images-per-identity-blackout-UQS-scores-only-filenames.csv\", \"output_files\\\\VGGFace200k-50-images-existing-regions-blackout-only-filenames.csv\"]  # Add your file paths here\n",
    "first_df = pd.read_csv(input_files[0], sep=';')\n",
    "second_df = pd.read_csv(input_files[1], sep=';')\n",
    "\n",
    "ids_in_first = [x.split('_')[1].split('-')[0] for x in first_df[\"Filename\"]]\n",
    "ids_in_second = [x.split('_')[1].split('-')[0] for x in second_df[\"Filename\"]]\n",
    "\n",
    "first_dict = {}\n",
    "second_dict = {}\n",
    "\n",
    "for person in ids_in_first:\n",
    "    first_dict[person] = 0\n",
    "\n",
    "    \n",
    "for person in ids_in_second:\n",
    "    second_dict[person] = 0\n",
    "\n",
    "for person, value in second_dict.items():\n",
    "    if not person in first_dict:\n",
    "        print(person)\n"
   ]
  }
 ],
 "metadata": {
  "kernelspec": {
   "display_name": "Python 3",
   "language": "python",
   "name": "python3"
  },
  "language_info": {
   "codemirror_mode": {
    "name": "ipython",
    "version": 3
   },
   "file_extension": ".py",
   "mimetype": "text/x-python",
   "name": "python",
   "nbconvert_exporter": "python",
   "pygments_lexer": "ipython3",
   "version": "3.13.0"
  }
 },
 "nbformat": 4,
 "nbformat_minor": 2
}
