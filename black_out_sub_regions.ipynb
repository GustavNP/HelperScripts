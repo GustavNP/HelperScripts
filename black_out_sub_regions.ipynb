{
 "cells": [
  {
   "cell_type": "code",
   "execution_count": 72,
   "metadata": {},
   "outputs": [],
   "source": [
    "import cv2\n",
    "import os\n"
   ]
  },
  {
   "cell_type": "code",
   "execution_count": 73,
   "metadata": {},
   "outputs": [],
   "source": [
    "def create_image_with_blacked_out_region(original_img, face_parsing_mask, region_class_number, blackout_img_save_path):\n",
    "    blackout_img = original_img.copy()\n",
    "    for i in range(0,222):\n",
    "        for k in range(0,222):\n",
    "            pixel_class_number = face_parsing_mask[i, k]\n",
    "            if pixel_class_number == region_class_number:\n",
    "                blackout_img[i, k] = 0\n",
    "    \n",
    "    cv2.imwrite(blackout_img_save_path, blackout_img)\n"
   ]
  },
  {
   "cell_type": "code",
   "execution_count": null,
   "metadata": {},
   "outputs": [
    {
     "name": "stdout",
     "output_type": "stream",
     "text": [
      "face_parsing_test_small_0001_01.png\n",
      "(222, 222)\n"
     ]
    }
   ],
   "source": [
    "\n",
    "# aligned_images_directory_path = \"C:\\\\Users\\\\admin\\\\Desktop\\\\aligned-test\"\n",
    "aligned_images_directory_path = \"C:\\\\Users\\\\admin\\\\Desktop\\\\aligned-VGGFace200k-folders-50-images\"\n",
    "# face_parsing_masks_directory_path = \"C:\\\\Users\\\\admin\\\\Desktop\\\\face-parsing-test\"\n",
    "face_parsing_masks_directory_path = \"C:\\\\Users\\\\admin\\\\source\\\\repos\\\\OFIQ-Project-FGFP\\\\install_x86_64\\\\Release\\\\bin\\\\face_parsing_images\"\n",
    "\n",
    "blackout_images_path_base = \"C:\\\\Users\\\\admin\\\\Desktop\\\\blackout-aligned-VGGFace200k-50-images\"\n",
    "\n",
    "region_class_dictionary = {\n",
    "    \"Nasal\" : 20,\n",
    "    \"LeftOrbital\" : 21,\n",
    "    \"RightOrbital\" : 22,\n",
    "    \"Mental\" : 23,\n",
    "    \"LeftBuccal\" : 24,\n",
    "    \"RightBuccal\" : 25,\n",
    "    \"LeftZygoInfraParo\" : 26,\n",
    "    \"RightZygoInfraParo\" : 27\n",
    "}\n",
    "\n",
    "\n",
    "for root, dirs, aligned_images_filenames in os.walk(aligned_images_directory_path):\n",
    "    for dir in dirs: # assumes there are only directories in the root directory and that those directories are person-directories\n",
    "        new_directory_path = os.path.join(blackout_images_path_base, dir)\n",
    "        if not os.path.exists(new_directory_path):\n",
    "            os.makedirs(new_directory_path)\n",
    "\n",
    "    for image_filename in aligned_images_filenames:\n",
    "        original_img_path = os.path.join(root, image_filename)\n",
    "        original_img = cv2.imread(original_img_path) # should have size 222x222 when face parsing image has size 200x200\n",
    "\n",
    "        face_parsing_filename = image_filename.replace(\"aligned\", \"face_parsing\")\n",
    "        face_parsing_filename = face_parsing_filename.replace(\".jpg\", \".png\")\n",
    "        face_parsing_mask_path = os.path.join(face_parsing_masks_directory_path, face_parsing_filename)\n",
    "        face_parsing_mask_gray = cv2.imread(face_parsing_mask_path, cv2.IMREAD_GRAYSCALE) # Assumed to have size 200x200\n",
    "        # aligned image is cropped before being input to face parsing algorithm. To adjust for this, 22 pixels must be added in each direction in the places specified (when face parsing size is 200x200)\n",
    "        face_parsing_mask_padding = cv2.copyMakeBorder(face_parsing_mask_gray, 0, 22, 11, 11, cv2.BORDER_CONSTANT, (0)) \n",
    "\n",
    "        person_directory_name = root.split(\"\\\\\")[-1]\n",
    "        original_images_directory = f\"{blackout_images_path_base}\\\\{person_directory_name}\\\\originals\"\n",
    "        if not os.path.exists(original_images_directory):\n",
    "            os.makedirs(original_images_directory)\n",
    "        original_image_small_save_path = f\"{original_images_directory}\\\\{image_filename}\"\n",
    "        cv2.imwrite(original_image_small_save_path, original_img)\n",
    "\n",
    "        \n",
    "        file_name, file_extension = os.path.splitext(image_filename)\n",
    "        for region_name, region_number in region_class_dictionary.items():\n",
    "            blackout_img_name = f\"{file_name}_Blackout_{region_name}{file_extension}\"\n",
    "            directory = f\"{blackout_images_path_base}\\\\{person_directory_name}\\\\{region_name}\"\n",
    "            if not os.path.exists(directory):\n",
    "                os.makedirs(directory)\n",
    "            blackout_img_save_path = os.path.join(directory, blackout_img_name)\n",
    "        \n",
    "            create_image_with_blacked_out_region(original_img, face_parsing_mask_padding, region_number, blackout_img_save_path)\n",
    "\n"
   ]
  }
 ],
 "metadata": {
  "kernelspec": {
   "display_name": "Python 3",
   "language": "python",
   "name": "python3"
  },
  "language_info": {
   "codemirror_mode": {
    "name": "ipython",
    "version": 3
   },
   "file_extension": ".py",
   "mimetype": "text/x-python",
   "name": "python",
   "nbconvert_exporter": "python",
   "pygments_lexer": "ipython3",
   "version": "3.13.0"
  }
 },
 "nbformat": 4,
 "nbformat_minor": 2
}
